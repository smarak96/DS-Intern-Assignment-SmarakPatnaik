{
 "cells": [
  {
   "cell_type": "markdown",
   "id": "5cb2e604",
   "metadata": {},
   "source": [
    "### Importing the necesasry libraries"
   ]
  },
  {
   "cell_type": "code",
   "execution_count": 2,
   "id": "58010ed7",
   "metadata": {},
   "outputs": [],
   "source": [
    "import pandas as pd\n",
    "import numpy as np"
   ]
  },
  {
   "cell_type": "markdown",
   "id": "6e4cae60",
   "metadata": {},
   "source": [
    "### Reading the csv file"
   ]
  },
  {
   "cell_type": "code",
   "execution_count": 3,
   "id": "b34e07e8",
   "metadata": {},
   "outputs": [],
   "source": [
    "df = pd.read_csv('data/data.csv')"
   ]
  },
  {
   "cell_type": "code",
   "execution_count": 4,
   "id": "69aebc14",
   "metadata": {},
   "outputs": [
    {
     "data": {
      "text/html": [
       "<div>\n",
       "<style scoped>\n",
       "    .dataframe tbody tr th:only-of-type {\n",
       "        vertical-align: middle;\n",
       "    }\n",
       "\n",
       "    .dataframe tbody tr th {\n",
       "        vertical-align: top;\n",
       "    }\n",
       "\n",
       "    .dataframe thead th {\n",
       "        text-align: right;\n",
       "    }\n",
       "</style>\n",
       "<table border=\"1\" class=\"dataframe\">\n",
       "  <thead>\n",
       "    <tr style=\"text-align: right;\">\n",
       "      <th></th>\n",
       "      <th>timestamp</th>\n",
       "      <th>equipment_energy_consumption</th>\n",
       "      <th>lighting_energy</th>\n",
       "      <th>zone1_temperature</th>\n",
       "      <th>zone1_humidity</th>\n",
       "      <th>zone2_temperature</th>\n",
       "      <th>zone2_humidity</th>\n",
       "      <th>zone3_temperature</th>\n",
       "      <th>zone3_humidity</th>\n",
       "      <th>zone4_temperature</th>\n",
       "      <th>...</th>\n",
       "      <th>zone9_temperature</th>\n",
       "      <th>zone9_humidity</th>\n",
       "      <th>outdoor_temperature</th>\n",
       "      <th>atmospheric_pressure</th>\n",
       "      <th>outdoor_humidity</th>\n",
       "      <th>wind_speed</th>\n",
       "      <th>visibility_index</th>\n",
       "      <th>dew_point</th>\n",
       "      <th>random_variable1</th>\n",
       "      <th>random_variable2</th>\n",
       "    </tr>\n",
       "  </thead>\n",
       "  <tbody>\n",
       "    <tr>\n",
       "      <th>0</th>\n",
       "      <td>2016-01-11 17:00:00</td>\n",
       "      <td>60.0</td>\n",
       "      <td>-77.78778596503064</td>\n",
       "      <td>33.74660933896648</td>\n",
       "      <td>47.59666666666671</td>\n",
       "      <td>19.2</td>\n",
       "      <td>44.790000</td>\n",
       "      <td>19.79</td>\n",
       "      <td>NaN</td>\n",
       "      <td>19.000000</td>\n",
       "      <td>...</td>\n",
       "      <td>17.033333</td>\n",
       "      <td>45.53</td>\n",
       "      <td>6.600000</td>\n",
       "      <td>733.5</td>\n",
       "      <td>92.0</td>\n",
       "      <td>7.000000</td>\n",
       "      <td>63.000000</td>\n",
       "      <td>5.300000</td>\n",
       "      <td>13.275433</td>\n",
       "      <td>13.275433</td>\n",
       "    </tr>\n",
       "    <tr>\n",
       "      <th>1</th>\n",
       "      <td>2016-01-11 17:10:00</td>\n",
       "      <td>60.0</td>\n",
       "      <td>30.0</td>\n",
       "      <td>19.89</td>\n",
       "      <td>46.69333333333329</td>\n",
       "      <td>19.2</td>\n",
       "      <td>44.722500</td>\n",
       "      <td>19.79</td>\n",
       "      <td>44.790000</td>\n",
       "      <td>19.000000</td>\n",
       "      <td>...</td>\n",
       "      <td>17.066667</td>\n",
       "      <td>45.56</td>\n",
       "      <td>6.483333</td>\n",
       "      <td>733.6</td>\n",
       "      <td>92.0</td>\n",
       "      <td>6.666667</td>\n",
       "      <td>59.166667</td>\n",
       "      <td>5.200000</td>\n",
       "      <td>18.606195</td>\n",
       "      <td>18.606195</td>\n",
       "    </tr>\n",
       "    <tr>\n",
       "      <th>2</th>\n",
       "      <td>2016-01-11 17:20:00</td>\n",
       "      <td>50.0</td>\n",
       "      <td>30.0</td>\n",
       "      <td>19.89</td>\n",
       "      <td>46.3</td>\n",
       "      <td>19.2</td>\n",
       "      <td>44.626667</td>\n",
       "      <td>19.79</td>\n",
       "      <td>44.933333</td>\n",
       "      <td>35.921144</td>\n",
       "      <td>...</td>\n",
       "      <td>17.000000</td>\n",
       "      <td>45.50</td>\n",
       "      <td>6.366667</td>\n",
       "      <td>733.7</td>\n",
       "      <td>92.0</td>\n",
       "      <td>6.333333</td>\n",
       "      <td>55.333333</td>\n",
       "      <td>5.100000</td>\n",
       "      <td>28.642668</td>\n",
       "      <td>28.642668</td>\n",
       "    </tr>\n",
       "    <tr>\n",
       "      <th>3</th>\n",
       "      <td>2016-01-11 17:30:00</td>\n",
       "      <td>50.0</td>\n",
       "      <td>40.0</td>\n",
       "      <td>33.74660933896648</td>\n",
       "      <td>46.0666666666667</td>\n",
       "      <td>19.2</td>\n",
       "      <td>44.590000</td>\n",
       "      <td>19.79</td>\n",
       "      <td>45.000000</td>\n",
       "      <td>NaN</td>\n",
       "      <td>...</td>\n",
       "      <td>17.000000</td>\n",
       "      <td>45.40</td>\n",
       "      <td>6.250000</td>\n",
       "      <td>733.8</td>\n",
       "      <td>92.0</td>\n",
       "      <td>6.000000</td>\n",
       "      <td>51.500000</td>\n",
       "      <td>37.673716</td>\n",
       "      <td>45.410389</td>\n",
       "      <td>45.410389</td>\n",
       "    </tr>\n",
       "    <tr>\n",
       "      <th>4</th>\n",
       "      <td>2016-01-11 17:40:00</td>\n",
       "      <td>60.0</td>\n",
       "      <td>40.0</td>\n",
       "      <td>19.89</td>\n",
       "      <td>46.33333333333329</td>\n",
       "      <td>19.2</td>\n",
       "      <td>44.530000</td>\n",
       "      <td>19.79</td>\n",
       "      <td>45.000000</td>\n",
       "      <td>18.890000</td>\n",
       "      <td>...</td>\n",
       "      <td>4.476511</td>\n",
       "      <td>45.40</td>\n",
       "      <td>6.133333</td>\n",
       "      <td>733.9</td>\n",
       "      <td>92.0</td>\n",
       "      <td>5.666667</td>\n",
       "      <td>47.666667</td>\n",
       "      <td>4.900000</td>\n",
       "      <td>10.084097</td>\n",
       "      <td>10.084097</td>\n",
       "    </tr>\n",
       "  </tbody>\n",
       "</table>\n",
       "<p>5 rows × 29 columns</p>\n",
       "</div>"
      ],
      "text/plain": [
       "             timestamp equipment_energy_consumption     lighting_energy  \\\n",
       "0  2016-01-11 17:00:00                         60.0  -77.78778596503064   \n",
       "1  2016-01-11 17:10:00                         60.0                30.0   \n",
       "2  2016-01-11 17:20:00                         50.0                30.0   \n",
       "3  2016-01-11 17:30:00                         50.0                40.0   \n",
       "4  2016-01-11 17:40:00                         60.0                40.0   \n",
       "\n",
       "   zone1_temperature     zone1_humidity zone2_temperature  zone2_humidity  \\\n",
       "0  33.74660933896648  47.59666666666671              19.2       44.790000   \n",
       "1              19.89  46.69333333333329              19.2       44.722500   \n",
       "2              19.89               46.3              19.2       44.626667   \n",
       "3  33.74660933896648   46.0666666666667              19.2       44.590000   \n",
       "4              19.89  46.33333333333329              19.2       44.530000   \n",
       "\n",
       "   zone3_temperature  zone3_humidity  zone4_temperature  ...  \\\n",
       "0              19.79             NaN          19.000000  ...   \n",
       "1              19.79       44.790000          19.000000  ...   \n",
       "2              19.79       44.933333          35.921144  ...   \n",
       "3              19.79       45.000000                NaN  ...   \n",
       "4              19.79       45.000000          18.890000  ...   \n",
       "\n",
       "   zone9_temperature  zone9_humidity  outdoor_temperature  \\\n",
       "0          17.033333           45.53             6.600000   \n",
       "1          17.066667           45.56             6.483333   \n",
       "2          17.000000           45.50             6.366667   \n",
       "3          17.000000           45.40             6.250000   \n",
       "4           4.476511           45.40             6.133333   \n",
       "\n",
       "   atmospheric_pressure  outdoor_humidity  wind_speed  visibility_index  \\\n",
       "0                 733.5              92.0    7.000000         63.000000   \n",
       "1                 733.6              92.0    6.666667         59.166667   \n",
       "2                 733.7              92.0    6.333333         55.333333   \n",
       "3                 733.8              92.0    6.000000         51.500000   \n",
       "4                 733.9              92.0    5.666667         47.666667   \n",
       "\n",
       "   dew_point  random_variable1  random_variable2  \n",
       "0   5.300000         13.275433         13.275433  \n",
       "1   5.200000         18.606195         18.606195  \n",
       "2   5.100000         28.642668         28.642668  \n",
       "3  37.673716         45.410389         45.410389  \n",
       "4   4.900000         10.084097         10.084097  \n",
       "\n",
       "[5 rows x 29 columns]"
      ]
     },
     "execution_count": 4,
     "metadata": {},
     "output_type": "execute_result"
    }
   ],
   "source": [
    "df.head(5)"
   ]
  },
  {
   "cell_type": "markdown",
   "id": "54c1505e",
   "metadata": {},
   "source": [
    "### Here I found that I have a total of 16857 rows and 29 columns"
   ]
  },
  {
   "cell_type": "code",
   "execution_count": 5,
   "id": "2b7b250e",
   "metadata": {},
   "outputs": [
    {
     "data": {
      "text/plain": [
       "(16857, 29)"
      ]
     },
     "execution_count": 5,
     "metadata": {},
     "output_type": "execute_result"
    }
   ],
   "source": [
    "df.shape"
   ]
  },
  {
   "cell_type": "markdown",
   "id": "ea85298a",
   "metadata": {},
   "source": [
    "### I checked the total columns in the dataset and how they are named"
   ]
  },
  {
   "cell_type": "code",
   "execution_count": 6,
   "id": "a9d6db27",
   "metadata": {},
   "outputs": [
    {
     "data": {
      "text/plain": [
       "Index(['timestamp', 'equipment_energy_consumption', 'lighting_energy',\n",
       "       'zone1_temperature', 'zone1_humidity', 'zone2_temperature',\n",
       "       'zone2_humidity', 'zone3_temperature', 'zone3_humidity',\n",
       "       'zone4_temperature', 'zone4_humidity', 'zone5_temperature',\n",
       "       'zone5_humidity', 'zone6_temperature', 'zone6_humidity',\n",
       "       'zone7_temperature', 'zone7_humidity', 'zone8_temperature',\n",
       "       'zone8_humidity', 'zone9_temperature', 'zone9_humidity',\n",
       "       'outdoor_temperature', 'atmospheric_pressure', 'outdoor_humidity',\n",
       "       'wind_speed', 'visibility_index', 'dew_point', 'random_variable1',\n",
       "       'random_variable2'],\n",
       "      dtype='object')"
      ]
     },
     "execution_count": 6,
     "metadata": {},
     "output_type": "execute_result"
    }
   ],
   "source": [
    "df.columns"
   ]
  },
  {
   "cell_type": "markdown",
   "id": "45175036",
   "metadata": {},
   "source": [
    "### Here I am checking the data types of different columns. I found that 4 columns have object data types but in reality they should be numeric columns. So there is some kind of discrepancy here"
   ]
  },
  {
   "cell_type": "code",
   "execution_count": 7,
   "id": "375b09d1",
   "metadata": {},
   "outputs": [
    {
     "data": {
      "text/plain": [
       "timestamp                        object\n",
       "equipment_energy_consumption     object\n",
       "lighting_energy                  object\n",
       "zone1_temperature                object\n",
       "zone1_humidity                   object\n",
       "zone2_temperature                object\n",
       "zone2_humidity                  float64\n",
       "zone3_temperature               float64\n",
       "zone3_humidity                  float64\n",
       "zone4_temperature               float64\n",
       "zone4_humidity                  float64\n",
       "zone5_temperature               float64\n",
       "zone5_humidity                  float64\n",
       "zone6_temperature               float64\n",
       "zone6_humidity                  float64\n",
       "zone7_temperature               float64\n",
       "zone7_humidity                  float64\n",
       "zone8_temperature               float64\n",
       "zone8_humidity                  float64\n",
       "zone9_temperature               float64\n",
       "zone9_humidity                  float64\n",
       "outdoor_temperature             float64\n",
       "atmospheric_pressure            float64\n",
       "outdoor_humidity                float64\n",
       "wind_speed                      float64\n",
       "visibility_index                float64\n",
       "dew_point                       float64\n",
       "random_variable1                float64\n",
       "random_variable2                float64\n",
       "dtype: object"
      ]
     },
     "execution_count": 7,
     "metadata": {},
     "output_type": "execute_result"
    }
   ],
   "source": [
    "df.dtypes"
   ]
  },
  {
   "cell_type": "markdown",
   "id": "46ed4049",
   "metadata": {},
   "source": [
    "### Here i am checking the unique values present in the target variable column. I find that it has 4 string values, because of which the entire column is having object data type"
   ]
  },
  {
   "cell_type": "code",
   "execution_count": 8,
   "id": "9aa29e90",
   "metadata": {},
   "outputs": [
    {
     "data": {
      "text/plain": [
       "array(['60.0', '50.0', nan, '70.0', '230.0', '580.0', '430.0', '250.0',\n",
       "       '100.0', '90.0', '80.0', '140.0', '120.0', '190.0', '110.0',\n",
       "       '400.0', '390.0', '240.0', '40.0', '30.0', '310.0', '380.0',\n",
       "       '370.0', '20.0', '-110.0', '260.0', '500.0', '450.0', '220.0',\n",
       "       '170.0', '290.0', '130.0', '200.0', '210.0', '-50.0', '-20.0',\n",
       "       '-944.5664110012307', '350.0', '300.0', '-400.0', '340.0', '150.0',\n",
       "       '330.0', '420.0', '520.0', '360.0', '-270.0', '-30.0', '180.0',\n",
       "       '550.0', '690.0', '620.0', '610.0', '490.0', '410.0', '320.0',\n",
       "       '270.0', '740.0', '910.0', '510.0', '790.0', '1139.9856929495108',\n",
       "       '-40.0', 'error', '460.0', '160.0', '480.0', '280.0', '-220.0',\n",
       "       '560.0', '1080.0', '750.0', '???', '470.0', '440.0', '-80.0',\n",
       "       '800.0', '-790.0', '540.0', '530.0', 'check', '660.0', '630.0',\n",
       "       '600.0', '10.0', '570.0', '830.0', '1070.0', '890.0', '590.0',\n",
       "       '-1139.9856929495108', '850.0', '710.0', '680.0', '-120.0',\n",
       "       '-310.0', 'unknown', '-60.0', '670.0', '780.0', '-450.0', '640.0',\n",
       "       '650.0', '700.0', '-70.0', '-130.0', '-280.0', '-100.0', '-340.0',\n",
       "       '-150.0', '770.0', '-230.0', '720.0', '-250.0', '-680.0', '760.0',\n",
       "       '-140.0', '860.0', '-90.0', '-500.0', '880.0', '-440.0', '730.0',\n",
       "       '900.0', '-330.0', '820.0', '870.0', '-160.0', '840.0', '-610.0',\n",
       "       '-200.0'], dtype=object)"
      ]
     },
     "execution_count": 8,
     "metadata": {},
     "output_type": "execute_result"
    }
   ],
   "source": [
    "df['equipment_energy_consumption'].unique()"
   ]
  },
  {
   "cell_type": "code",
   "execution_count": 9,
   "id": "4597dd39",
   "metadata": {},
   "outputs": [],
   "source": [
    "# ## find the min and maximum value of the target variable\n",
    "# min_target_value = df['equipment_energy_consumption'].min()\n",
    "# max_target_value = df['equipment_energy_consumption'].max()\n",
    "# print(f\"The min target value is {min_target_value} \")\n",
    "# print(f\"The maximum target value is {max_target_value}\")"
   ]
  },
  {
   "cell_type": "markdown",
   "id": "ce4bd71d",
   "metadata": {},
   "source": [
    "### So I analyzed the percentage of these string values. Since it is around 0.4 %, it is very low. So i chose to remove them from the dataset since it would have negligible impact"
   ]
  },
  {
   "cell_type": "code",
   "execution_count": 10,
   "id": "fa7f0a7c",
   "metadata": {},
   "outputs": [
    {
     "data": {
      "text/html": [
       "<div>\n",
       "<style scoped>\n",
       "    .dataframe tbody tr th:only-of-type {\n",
       "        vertical-align: middle;\n",
       "    }\n",
       "\n",
       "    .dataframe tbody tr th {\n",
       "        vertical-align: top;\n",
       "    }\n",
       "\n",
       "    .dataframe thead th {\n",
       "        text-align: right;\n",
       "    }\n",
       "</style>\n",
       "<table border=\"1\" class=\"dataframe\">\n",
       "  <thead>\n",
       "    <tr style=\"text-align: right;\">\n",
       "      <th></th>\n",
       "      <th>timestamp</th>\n",
       "      <th>equipment_energy_consumption</th>\n",
       "      <th>lighting_energy</th>\n",
       "      <th>zone1_temperature</th>\n",
       "      <th>zone1_humidity</th>\n",
       "      <th>zone2_temperature</th>\n",
       "      <th>zone2_humidity</th>\n",
       "      <th>zone3_temperature</th>\n",
       "      <th>zone3_humidity</th>\n",
       "      <th>zone4_temperature</th>\n",
       "      <th>...</th>\n",
       "      <th>zone9_temperature</th>\n",
       "      <th>zone9_humidity</th>\n",
       "      <th>outdoor_temperature</th>\n",
       "      <th>atmospheric_pressure</th>\n",
       "      <th>outdoor_humidity</th>\n",
       "      <th>wind_speed</th>\n",
       "      <th>visibility_index</th>\n",
       "      <th>dew_point</th>\n",
       "      <th>random_variable1</th>\n",
       "      <th>random_variable2</th>\n",
       "    </tr>\n",
       "  </thead>\n",
       "  <tbody>\n",
       "    <tr>\n",
       "      <th>550</th>\n",
       "      <td>2016-01-15 12:20:00</td>\n",
       "      <td>error</td>\n",
       "      <td>10.0</td>\n",
       "      <td>20.89</td>\n",
       "      <td>38.893333333333295</td>\n",
       "      <td>20.445</td>\n",
       "      <td>37.950000</td>\n",
       "      <td>20.500000</td>\n",
       "      <td>39.863333</td>\n",
       "      <td>20.133951</td>\n",
       "      <td>...</td>\n",
       "      <td>NaN</td>\n",
       "      <td>42.290000</td>\n",
       "      <td>3.766667</td>\n",
       "      <td>754.800000</td>\n",
       "      <td>87.666667</td>\n",
       "      <td>NaN</td>\n",
       "      <td>34.333333</td>\n",
       "      <td>1.833333</td>\n",
       "      <td>28.099405</td>\n",
       "      <td>28.099405</td>\n",
       "    </tr>\n",
       "    <tr>\n",
       "      <th>786</th>\n",
       "      <td>2016-01-17 03:20:00</td>\n",
       "      <td>???</td>\n",
       "      <td>0.0</td>\n",
       "      <td>21.6</td>\n",
       "      <td>39.9</td>\n",
       "      <td>20.7</td>\n",
       "      <td>38.826667</td>\n",
       "      <td>21.290000</td>\n",
       "      <td>NaN</td>\n",
       "      <td>20.200000</td>\n",
       "      <td>...</td>\n",
       "      <td>17.79</td>\n",
       "      <td>44.863333</td>\n",
       "      <td>0.466667</td>\n",
       "      <td>764.433333</td>\n",
       "      <td>97.666667</td>\n",
       "      <td>3.333333</td>\n",
       "      <td>30.666667</td>\n",
       "      <td>0.100000</td>\n",
       "      <td>36.546644</td>\n",
       "      <td>36.546644</td>\n",
       "    </tr>\n",
       "    <tr>\n",
       "      <th>994</th>\n",
       "      <td>2016-01-18 14:00:00</td>\n",
       "      <td>check</td>\n",
       "      <td>0.0</td>\n",
       "      <td>19.39</td>\n",
       "      <td>41.29</td>\n",
       "      <td>18.26</td>\n",
       "      <td>41.466667</td>\n",
       "      <td>19.700000</td>\n",
       "      <td>40.700000</td>\n",
       "      <td>18.890000</td>\n",
       "      <td>...</td>\n",
       "      <td>17.29</td>\n",
       "      <td>NaN</td>\n",
       "      <td>-0.600000</td>\n",
       "      <td>757.300000</td>\n",
       "      <td>70.000000</td>\n",
       "      <td>3.000000</td>\n",
       "      <td>40.000000</td>\n",
       "      <td>-5.500000</td>\n",
       "      <td>6.686725</td>\n",
       "      <td>6.686725</td>\n",
       "    </tr>\n",
       "    <tr>\n",
       "      <th>1141</th>\n",
       "      <td>2016-01-19 14:20:00</td>\n",
       "      <td>check</td>\n",
       "      <td>0.0</td>\n",
       "      <td>19.066666666666695</td>\n",
       "      <td>39.9</td>\n",
       "      <td>17.79</td>\n",
       "      <td>40.400000</td>\n",
       "      <td>19.000000</td>\n",
       "      <td>39.700000</td>\n",
       "      <td>18.166667</td>\n",
       "      <td>...</td>\n",
       "      <td>16.79</td>\n",
       "      <td>38.090000</td>\n",
       "      <td>0.433333</td>\n",
       "      <td>757.266667</td>\n",
       "      <td>64.333333</td>\n",
       "      <td>1.000000</td>\n",
       "      <td>23.666667</td>\n",
       "      <td>-5.633333</td>\n",
       "      <td>13.286510</td>\n",
       "      <td>13.286510</td>\n",
       "    </tr>\n",
       "    <tr>\n",
       "      <th>1193</th>\n",
       "      <td>2016-01-19 23:00:00</td>\n",
       "      <td>???</td>\n",
       "      <td>0.0</td>\n",
       "      <td>19.79</td>\n",
       "      <td>NaN</td>\n",
       "      <td>19.0</td>\n",
       "      <td>38.663333</td>\n",
       "      <td>NaN</td>\n",
       "      <td>39.223333</td>\n",
       "      <td>18.963333</td>\n",
       "      <td>...</td>\n",
       "      <td>16.39</td>\n",
       "      <td>38.760000</td>\n",
       "      <td>-4.000000</td>\n",
       "      <td>758.500000</td>\n",
       "      <td>91.000000</td>\n",
       "      <td>1.000000</td>\n",
       "      <td>62.000000</td>\n",
       "      <td>-5.300000</td>\n",
       "      <td>0.862167</td>\n",
       "      <td>0.862167</td>\n",
       "    </tr>\n",
       "    <tr>\n",
       "      <th>...</th>\n",
       "      <td>...</td>\n",
       "      <td>...</td>\n",
       "      <td>...</td>\n",
       "      <td>...</td>\n",
       "      <td>...</td>\n",
       "      <td>...</td>\n",
       "      <td>...</td>\n",
       "      <td>...</td>\n",
       "      <td>...</td>\n",
       "      <td>...</td>\n",
       "      <td>...</td>\n",
       "      <td>...</td>\n",
       "      <td>...</td>\n",
       "      <td>...</td>\n",
       "      <td>...</td>\n",
       "      <td>...</td>\n",
       "      <td>...</td>\n",
       "      <td>...</td>\n",
       "      <td>...</td>\n",
       "      <td>...</td>\n",
       "      <td>...</td>\n",
       "    </tr>\n",
       "    <tr>\n",
       "      <th>15904</th>\n",
       "      <td>2016-04-30 16:50:00</td>\n",
       "      <td>error</td>\n",
       "      <td>0.0</td>\n",
       "      <td>22.0</td>\n",
       "      <td>44.69333333333329</td>\n",
       "      <td>21.0</td>\n",
       "      <td>41.666667</td>\n",
       "      <td>23.633333</td>\n",
       "      <td>35.393333</td>\n",
       "      <td>20.200000</td>\n",
       "      <td>...</td>\n",
       "      <td>19.39</td>\n",
       "      <td>NaN</td>\n",
       "      <td>10.533333</td>\n",
       "      <td>759.983333</td>\n",
       "      <td>NaN</td>\n",
       "      <td>6.000000</td>\n",
       "      <td>40.000000</td>\n",
       "      <td>3.933333</td>\n",
       "      <td>37.110749</td>\n",
       "      <td>37.110749</td>\n",
       "    </tr>\n",
       "    <tr>\n",
       "      <th>16144</th>\n",
       "      <td>2016-05-02 08:50:00</td>\n",
       "      <td>check</td>\n",
       "      <td>0.0</td>\n",
       "      <td>21.39</td>\n",
       "      <td>NaN</td>\n",
       "      <td>22.9266666666667</td>\n",
       "      <td>34.623333</td>\n",
       "      <td>22.600000</td>\n",
       "      <td>34.500000</td>\n",
       "      <td>21.390000</td>\n",
       "      <td>...</td>\n",
       "      <td>19.79</td>\n",
       "      <td>37.900000</td>\n",
       "      <td>7.933333</td>\n",
       "      <td>764.416667</td>\n",
       "      <td>-74.000000</td>\n",
       "      <td>1.000000</td>\n",
       "      <td>30.833333</td>\n",
       "      <td>3.433333</td>\n",
       "      <td>12.522568</td>\n",
       "      <td>12.522568</td>\n",
       "    </tr>\n",
       "    <tr>\n",
       "      <th>16146</th>\n",
       "      <td>2016-05-02 09:10:00</td>\n",
       "      <td>error</td>\n",
       "      <td>0.0</td>\n",
       "      <td>21.4266666666667</td>\n",
       "      <td>36.79</td>\n",
       "      <td>23.7633333333333</td>\n",
       "      <td>32.923333</td>\n",
       "      <td>22.500000</td>\n",
       "      <td>34.590000</td>\n",
       "      <td>21.600000</td>\n",
       "      <td>...</td>\n",
       "      <td>19.79</td>\n",
       "      <td>37.960000</td>\n",
       "      <td>8.933333</td>\n",
       "      <td>NaN</td>\n",
       "      <td>69.666667</td>\n",
       "      <td>1.166667</td>\n",
       "      <td>29.000000</td>\n",
       "      <td>3.516667</td>\n",
       "      <td>42.310596</td>\n",
       "      <td>42.310596</td>\n",
       "    </tr>\n",
       "    <tr>\n",
       "      <th>16315</th>\n",
       "      <td>2016-05-03 13:00:00</td>\n",
       "      <td>check</td>\n",
       "      <td>0.0</td>\n",
       "      <td>NaN</td>\n",
       "      <td>38.09</td>\n",
       "      <td>24.73</td>\n",
       "      <td>32.363333</td>\n",
       "      <td>23.200000</td>\n",
       "      <td>37.590000</td>\n",
       "      <td>22.963333</td>\n",
       "      <td>...</td>\n",
       "      <td>20.29</td>\n",
       "      <td>39.878000</td>\n",
       "      <td>NaN</td>\n",
       "      <td>764.100000</td>\n",
       "      <td>52.000000</td>\n",
       "      <td>4.000000</td>\n",
       "      <td>40.000000</td>\n",
       "      <td>2.900000</td>\n",
       "      <td>0.606291</td>\n",
       "      <td>NaN</td>\n",
       "    </tr>\n",
       "    <tr>\n",
       "      <th>16362</th>\n",
       "      <td>2016-05-03 20:50:00</td>\n",
       "      <td>unknown</td>\n",
       "      <td>0.0</td>\n",
       "      <td>23.1</td>\n",
       "      <td>34.2</td>\n",
       "      <td>21.6</td>\n",
       "      <td>NaN</td>\n",
       "      <td>23.100000</td>\n",
       "      <td>36.000000</td>\n",
       "      <td>22.760000</td>\n",
       "      <td>...</td>\n",
       "      <td>20.29</td>\n",
       "      <td>33.764286</td>\n",
       "      <td>10.383333</td>\n",
       "      <td>765.366667</td>\n",
       "      <td>57.500000</td>\n",
       "      <td>2.333333</td>\n",
       "      <td>40.000000</td>\n",
       "      <td>2.250000</td>\n",
       "      <td>28.423231</td>\n",
       "      <td>28.423231</td>\n",
       "    </tr>\n",
       "  </tbody>\n",
       "</table>\n",
       "<p>68 rows × 29 columns</p>\n",
       "</div>"
      ],
      "text/plain": [
       "                 timestamp equipment_energy_consumption lighting_energy  \\\n",
       "550    2016-01-15 12:20:00                        error            10.0   \n",
       "786    2016-01-17 03:20:00                          ???             0.0   \n",
       "994    2016-01-18 14:00:00                        check             0.0   \n",
       "1141   2016-01-19 14:20:00                        check             0.0   \n",
       "1193   2016-01-19 23:00:00                          ???             0.0   \n",
       "...                    ...                          ...             ...   \n",
       "15904  2016-04-30 16:50:00                        error             0.0   \n",
       "16144  2016-05-02 08:50:00                        check             0.0   \n",
       "16146  2016-05-02 09:10:00                        error             0.0   \n",
       "16315  2016-05-03 13:00:00                        check             0.0   \n",
       "16362  2016-05-03 20:50:00                      unknown             0.0   \n",
       "\n",
       "        zone1_temperature      zone1_humidity zone2_temperature  \\\n",
       "550                 20.89  38.893333333333295            20.445   \n",
       "786                  21.6                39.9              20.7   \n",
       "994                 19.39               41.29             18.26   \n",
       "1141   19.066666666666695                39.9             17.79   \n",
       "1193                19.79                 NaN              19.0   \n",
       "...                   ...                 ...               ...   \n",
       "15904                22.0   44.69333333333329              21.0   \n",
       "16144               21.39                 NaN  22.9266666666667   \n",
       "16146    21.4266666666667               36.79  23.7633333333333   \n",
       "16315                 NaN               38.09             24.73   \n",
       "16362                23.1                34.2              21.6   \n",
       "\n",
       "       zone2_humidity  zone3_temperature  zone3_humidity  zone4_temperature  \\\n",
       "550         37.950000          20.500000       39.863333          20.133951   \n",
       "786         38.826667          21.290000             NaN          20.200000   \n",
       "994         41.466667          19.700000       40.700000          18.890000   \n",
       "1141        40.400000          19.000000       39.700000          18.166667   \n",
       "1193        38.663333                NaN       39.223333          18.963333   \n",
       "...               ...                ...             ...                ...   \n",
       "15904       41.666667          23.633333       35.393333          20.200000   \n",
       "16144       34.623333          22.600000       34.500000          21.390000   \n",
       "16146       32.923333          22.500000       34.590000          21.600000   \n",
       "16315       32.363333          23.200000       37.590000          22.963333   \n",
       "16362             NaN          23.100000       36.000000          22.760000   \n",
       "\n",
       "       ...  zone9_temperature  zone9_humidity  outdoor_temperature  \\\n",
       "550    ...                NaN       42.290000             3.766667   \n",
       "786    ...              17.79       44.863333             0.466667   \n",
       "994    ...              17.29             NaN            -0.600000   \n",
       "1141   ...              16.79       38.090000             0.433333   \n",
       "1193   ...              16.39       38.760000            -4.000000   \n",
       "...    ...                ...             ...                  ...   \n",
       "15904  ...              19.39             NaN            10.533333   \n",
       "16144  ...              19.79       37.900000             7.933333   \n",
       "16146  ...              19.79       37.960000             8.933333   \n",
       "16315  ...              20.29       39.878000                  NaN   \n",
       "16362  ...              20.29       33.764286            10.383333   \n",
       "\n",
       "       atmospheric_pressure  outdoor_humidity  wind_speed  visibility_index  \\\n",
       "550              754.800000         87.666667         NaN         34.333333   \n",
       "786              764.433333         97.666667    3.333333         30.666667   \n",
       "994              757.300000         70.000000    3.000000         40.000000   \n",
       "1141             757.266667         64.333333    1.000000         23.666667   \n",
       "1193             758.500000         91.000000    1.000000         62.000000   \n",
       "...                     ...               ...         ...               ...   \n",
       "15904            759.983333               NaN    6.000000         40.000000   \n",
       "16144            764.416667        -74.000000    1.000000         30.833333   \n",
       "16146                   NaN         69.666667    1.166667         29.000000   \n",
       "16315            764.100000         52.000000    4.000000         40.000000   \n",
       "16362            765.366667         57.500000    2.333333         40.000000   \n",
       "\n",
       "       dew_point  random_variable1  random_variable2  \n",
       "550     1.833333         28.099405         28.099405  \n",
       "786     0.100000         36.546644         36.546644  \n",
       "994    -5.500000          6.686725          6.686725  \n",
       "1141   -5.633333         13.286510         13.286510  \n",
       "1193   -5.300000          0.862167          0.862167  \n",
       "...          ...               ...               ...  \n",
       "15904   3.933333         37.110749         37.110749  \n",
       "16144   3.433333         12.522568         12.522568  \n",
       "16146   3.516667         42.310596         42.310596  \n",
       "16315   2.900000          0.606291               NaN  \n",
       "16362   2.250000         28.423231         28.423231  \n",
       "\n",
       "[68 rows x 29 columns]"
      ]
     },
     "execution_count": 10,
     "metadata": {},
     "output_type": "execute_result"
    }
   ],
   "source": [
    "bad_values = ['check', 'unknown','???','error']\n",
    "target_having_strings = df[df['equipment_energy_consumption'].isin(bad_values)]\n",
    "target_having_strings\n"
   ]
  },
  {
   "cell_type": "code",
   "execution_count": 22,
   "id": "f77c3a16",
   "metadata": {},
   "outputs": [
    {
     "name": "stdout",
     "output_type": "stream",
     "text": [
      "Total rows having target values as strings is 68\n",
      "The percentage of rows having target values as strings is 0.4033932490953313\n"
     ]
    }
   ],
   "source": [
    "print(f\"Total rows having target values as strings is {len(target_having_strings)}\")\n",
    "print(f\"The percentage of rows having target values as strings is {len(target_having_strings)*100/len(df)}\")"
   ]
  },
  {
   "cell_type": "code",
   "execution_count": 23,
   "id": "2e852969",
   "metadata": {},
   "outputs": [],
   "source": [
    "cleaned_data_frame1 = df[~df['equipment_energy_consumption'].isin(bad_values)].copy()"
   ]
  },
  {
   "cell_type": "markdown",
   "id": "a6e0781b",
   "metadata": {},
   "source": [
    "### The below statement was just used for confirmation that 68 rows were removed"
   ]
  },
  {
   "cell_type": "code",
   "execution_count": 24,
   "id": "97ded520",
   "metadata": {},
   "outputs": [
    {
     "name": "stdout",
     "output_type": "stream",
     "text": [
      "The length of the original dataframe is 16857 and cleaned dataframe is 16789\n"
     ]
    }
   ],
   "source": [
    "print(f\"The length of the original dataframe is {len(df)} and cleaned dataframe is {len(cleaned_data_frame1)}\")"
   ]
  },
  {
   "cell_type": "code",
   "execution_count": 25,
   "id": "0458d245",
   "metadata": {},
   "outputs": [
    {
     "data": {
      "text/plain": [
       "dtype('O')"
      ]
     },
     "execution_count": 25,
     "metadata": {},
     "output_type": "execute_result"
    }
   ],
   "source": [
    "cleaned_data_frame1['equipment_energy_consumption'].dtype"
   ]
  },
  {
   "cell_type": "markdown",
   "id": "7c85897e",
   "metadata": {},
   "source": [
    "### Since I only have numeric strings only, I converted them into numeric values"
   ]
  },
  {
   "cell_type": "code",
   "execution_count": 26,
   "id": "4ad145e4",
   "metadata": {},
   "outputs": [
    {
     "data": {
      "text/plain": [
       "dtype('O')"
      ]
     },
     "execution_count": 26,
     "metadata": {},
     "output_type": "execute_result"
    }
   ],
   "source": [
    "cleaned_data_frame1['equipment_energy_consumption'].dtype"
   ]
  },
  {
   "cell_type": "code",
   "execution_count": 27,
   "id": "1b5ed57f",
   "metadata": {},
   "outputs": [
    {
     "data": {
      "text/plain": [
       "16789"
      ]
     },
     "execution_count": 27,
     "metadata": {},
     "output_type": "execute_result"
    }
   ],
   "source": [
    "len(cleaned_data_frame1)"
   ]
  },
  {
   "cell_type": "code",
   "execution_count": 28,
   "id": "912cedfe",
   "metadata": {},
   "outputs": [
    {
     "data": {
      "text/plain": [
       "timestamp                        object\n",
       "equipment_energy_consumption     object\n",
       "lighting_energy                  object\n",
       "zone1_temperature                object\n",
       "zone1_humidity                   object\n",
       "zone2_temperature                object\n",
       "zone2_humidity                  float64\n",
       "zone3_temperature               float64\n",
       "zone3_humidity                  float64\n",
       "zone4_temperature               float64\n",
       "zone4_humidity                  float64\n",
       "zone5_temperature               float64\n",
       "zone5_humidity                  float64\n",
       "zone6_temperature               float64\n",
       "zone6_humidity                  float64\n",
       "zone7_temperature               float64\n",
       "zone7_humidity                  float64\n",
       "zone8_temperature               float64\n",
       "zone8_humidity                  float64\n",
       "zone9_temperature               float64\n",
       "zone9_humidity                  float64\n",
       "outdoor_temperature             float64\n",
       "atmospheric_pressure            float64\n",
       "outdoor_humidity                float64\n",
       "wind_speed                      float64\n",
       "visibility_index                float64\n",
       "dew_point                       float64\n",
       "random_variable1                float64\n",
       "random_variable2                float64\n",
       "dtype: object"
      ]
     },
     "execution_count": 28,
     "metadata": {},
     "output_type": "execute_result"
    }
   ],
   "source": [
    "cleaned_data_frame1.dtypes"
   ]
  },
  {
   "cell_type": "code",
   "execution_count": 29,
   "id": "3c94aa81",
   "metadata": {},
   "outputs": [],
   "source": [
    "cleaned_data_frame1['equipment_energy_consumption'] = pd.to_numeric(cleaned_data_frame1['equipment_energy_consumption'])\n"
   ]
  },
  {
   "cell_type": "code",
   "execution_count": 30,
   "id": "6e5e6c16",
   "metadata": {},
   "outputs": [
    {
     "data": {
      "text/plain": [
       "314"
      ]
     },
     "execution_count": 30,
     "metadata": {},
     "output_type": "execute_result"
    }
   ],
   "source": [
    "len(cleaned_data_frame1[cleaned_data_frame1['equipment_energy_consumption'] < 0])"
   ]
  },
  {
   "cell_type": "code",
   "execution_count": 31,
   "id": "56ac5a90",
   "metadata": {},
   "outputs": [
    {
     "data": {
      "text/plain": [
       "0"
      ]
     },
     "execution_count": 31,
     "metadata": {},
     "output_type": "execute_result"
    }
   ],
   "source": [
    "len(cleaned_data_frame1[(cleaned_data_frame1['equipment_energy_consumption'] >= 0) & (cleaned_data_frame1['equipment_energy_consumption'] < 10)])"
   ]
  },
  {
   "cell_type": "code",
   "execution_count": 32,
   "id": "c281ac6f",
   "metadata": {},
   "outputs": [
    {
     "data": {
      "text/plain": [
       "15631"
      ]
     },
     "execution_count": 32,
     "metadata": {},
     "output_type": "execute_result"
    }
   ],
   "source": [
    "len(cleaned_data_frame1[cleaned_data_frame1['equipment_energy_consumption'] >= 10])"
   ]
  },
  {
   "cell_type": "code",
   "execution_count": 33,
   "id": "b9d219a3",
   "metadata": {},
   "outputs": [
    {
     "data": {
      "text/plain": [
       "<Axes: xlabel='equipment_energy_consumption', ylabel='Count'>"
      ]
     },
     "execution_count": 33,
     "metadata": {},
     "output_type": "execute_result"
    },
    {
     "data": {
      "image/png": "[encoded data removed]",
      "text/plain": [
       "<Figure size 640x480 with 1 Axes>"
      ]
     },
     "metadata": {},
     "output_type": "display_data"
    }
   ],
   "source": [
    "import seaborn as sns\n",
    "sns.histplot(cleaned_data_frame1['equipment_energy_consumption'].dropna(), bins=50, kde=True)\n"
   ]
  },
  {
   "cell_type": "code",
   "execution_count": 34,
   "id": "3458e17b",
   "metadata": {},
   "outputs": [
    {
     "data": {
      "text/plain": [
       "1.8702722020370481"
      ]
     },
     "execution_count": 34,
     "metadata": {},
     "output_type": "execute_result"
    }
   ],
   "source": [
    "len(cleaned_data_frame1[cleaned_data_frame1['equipment_energy_consumption'] < 0]) * 100/len(cleaned_data_frame1)"
   ]
  },
  {
   "cell_type": "code",
   "execution_count": 40,
   "id": "33935417",
   "metadata": {},
   "outputs": [],
   "source": [
    "cleaned_data_frame2 = cleaned_data_frame1[(cleaned_data_frame1['equipment_energy_consumption'] >= 0) | (cleaned_data_frame1['equipment_energy_consumption'].isna())].copy()\n"
   ]
  },
  {
   "cell_type": "code",
   "execution_count": 41,
   "id": "a2f3ab00",
   "metadata": {},
   "outputs": [
    {
     "data": {
      "text/plain": [
       "16475"
      ]
     },
     "execution_count": 41,
     "metadata": {},
     "output_type": "execute_result"
    }
   ],
   "source": [
    "len(cleaned_data_frame2)"
   ]
  },
  {
   "cell_type": "code",
   "execution_count": 42,
   "id": "6a5c1396",
   "metadata": {},
   "outputs": [
    {
     "data": {
      "text/plain": [
       "<Axes: xlabel='equipment_energy_consumption', ylabel='Count'>"
      ]
     },
     "execution_count": 42,
     "metadata": {},
     "output_type": "execute_result"
    },
    {
     "data": {
      "image/png": "[encoded data removed]",
      "text/plain": [
       "<Figure size 640x480 with 1 Axes>"
      ]
     },
     "metadata": {},
     "output_type": "display_data"
    }
   ],
   "source": [
    "sns.histplot(cleaned_data_frame2['equipment_energy_consumption'].dropna(), bins=50, kde=True)\n"
   ]
  },
  {
   "cell_type": "code",
   "execution_count": 43,
   "id": "ab7b6b0a",
   "metadata": {},
   "outputs": [
    {
     "name": "stdout",
     "output_type": "stream",
     "text": [
      "The median equipment energy consumption is  60.0 Wh\n"
     ]
    }
   ],
   "source": [
    "median_val = cleaned_data_frame2['equipment_energy_consumption'].median()\n",
    "print(f\"The median equipment energy consumption is  {median_val} Wh\")\n"
   ]
  },
  {
   "cell_type": "code",
   "execution_count": 44,
   "id": "bbc20d5c",
   "metadata": {},
   "outputs": [],
   "source": [
    "cleaned_data_frame2['equipment_energy_consumption'] = cleaned_data_frame2['equipment_energy_consumption'].fillna(median_val)\n"
   ]
  },
  {
   "cell_type": "code",
   "execution_count": 45,
   "id": "4258e69b",
   "metadata": {},
   "outputs": [
    {
     "data": {
      "text/plain": [
       "16475"
      ]
     },
     "execution_count": 45,
     "metadata": {},
     "output_type": "execute_result"
    }
   ],
   "source": [
    "len(cleaned_data_frame2)"
   ]
  },
  {
   "cell_type": "code",
   "execution_count": null,
   "id": "7305a341",
   "metadata": {},
   "outputs": [],
   "source": []
  },
  {
   "cell_type": "code",
   "execution_count": null,
   "id": "797887a9",
   "metadata": {},
   "outputs": [
    {
     "data": {
      "text/plain": [
       "timestamp                         0\n",
       "equipment_energy_consumption    844\n",
       "lighting_energy                 809\n",
       "zone1_temperature               867\n",
       "zone1_humidity                  801\n",
       "zone2_temperature               853\n",
       "zone2_humidity                  867\n",
       "zone3_temperature               802\n",
       "zone3_humidity                  878\n",
       "zone4_temperature               816\n",
       "zone4_humidity                  781\n",
       "zone5_temperature               838\n",
       "zone5_humidity                  801\n",
       "zone6_temperature               848\n",
       "zone6_humidity                  847\n",
       "zone7_temperature               794\n",
       "zone7_humidity                  805\n",
       "zone8_temperature               848\n",
       "zone8_humidity                  777\n",
       "zone9_temperature               773\n",
       "zone9_humidity                  888\n",
       "outdoor_temperature             806\n",
       "atmospheric_pressure            842\n",
       "outdoor_humidity                799\n",
       "wind_speed                      828\n",
       "visibility_index                815\n",
       "dew_point                       826\n",
       "random_variable1                826\n",
       "random_variable2                824\n",
       "dtype: int64"
      ]
     },
     "metadata": {},
     "output_type": "display_data"
    }
   ],
   "source": [
    "df.isna().sum()"
   ]
  },
  {
   "cell_type": "code",
   "execution_count": 91,
   "id": "918c0d7f",
   "metadata": {},
   "outputs": [],
   "source": [
    "total_rows = len(df)\n",
    "missing_percentage = df.isna().sum() * 100 / total_rows"
   ]
  },
  {
   "cell_type": "code",
   "execution_count": 90,
   "id": "2acbdb54",
   "metadata": {},
   "outputs": [
    {
     "data": {
      "text/plain": [
       "timestamp                       0.000000\n",
       "equipment_energy_consumption    5.006822\n",
       "lighting_energy                 4.799193\n",
       "zone1_temperature               5.143264\n",
       "zone1_humidity                  4.751735\n",
       "zone2_temperature               5.060212\n",
       "zone2_humidity                  5.143264\n",
       "zone3_temperature               4.757667\n",
       "zone3_humidity                  5.208519\n",
       "zone4_temperature               4.840719\n",
       "zone4_humidity                  4.633090\n",
       "zone5_temperature               4.971229\n",
       "zone5_humidity                  4.751735\n",
       "zone6_temperature               5.030551\n",
       "zone6_humidity                  5.024619\n",
       "zone7_temperature               4.710209\n",
       "zone7_humidity                  4.775464\n",
       "zone8_temperature               5.030551\n",
       "zone8_humidity                  4.609361\n",
       "zone9_temperature               4.585632\n",
       "zone9_humidity                  5.267841\n",
       "outdoor_temperature             4.781396\n",
       "atmospheric_pressure            4.994958\n",
       "outdoor_humidity                4.739871\n",
       "wind_speed                      4.911906\n",
       "visibility_index                4.834787\n",
       "dew_point                       4.900042\n",
       "random_variable1                4.900042\n",
       "random_variable2                4.888177\n",
       "dtype: float64"
      ]
     },
     "execution_count": 90,
     "metadata": {},
     "output_type": "execute_result"
    }
   ],
   "source": [
    "missing_percentage"
   ]
  },
  {
   "cell_type": "code",
   "execution_count": 47,
   "id": "c3247c60",
   "metadata": {},
   "outputs": [
    {
     "data": {
      "text/plain": [
       "timestamp                         0\n",
       "equipment_energy_consumption      0\n",
       "lighting_energy                 790\n",
       "zone1_temperature               849\n",
       "zone1_humidity                  781\n",
       "zone2_temperature               832\n",
       "zone2_humidity                  843\n",
       "zone3_temperature               788\n",
       "zone3_humidity                  862\n",
       "zone4_temperature               801\n",
       "zone4_humidity                  761\n",
       "zone5_temperature               819\n",
       "zone5_humidity                  782\n",
       "zone6_temperature               835\n",
       "zone6_humidity                  827\n",
       "zone7_temperature               773\n",
       "zone7_humidity                  792\n",
       "zone8_temperature               828\n",
       "zone8_humidity                  759\n",
       "zone9_temperature               750\n",
       "zone9_humidity                  868\n",
       "outdoor_temperature             789\n",
       "atmospheric_pressure            824\n",
       "outdoor_humidity                776\n",
       "wind_speed                      808\n",
       "visibility_index                792\n",
       "dew_point                       801\n",
       "random_variable1                812\n",
       "random_variable2                804\n",
       "dtype: int64"
      ]
     },
     "execution_count": 47,
     "metadata": {},
     "output_type": "execute_result"
    }
   ],
   "source": [
    "cleaned_data_frame2.isna().sum()"
   ]
  },
  {
   "cell_type": "code",
   "execution_count": 48,
   "id": "a17c3feb",
   "metadata": {},
   "outputs": [
    {
     "data": {
      "text/plain": [
       "timestamp                        object\n",
       "equipment_energy_consumption    float64\n",
       "lighting_energy                  object\n",
       "zone1_temperature                object\n",
       "zone1_humidity                   object\n",
       "zone2_temperature                object\n",
       "zone2_humidity                  float64\n",
       "zone3_temperature               float64\n",
       "zone3_humidity                  float64\n",
       "zone4_temperature               float64\n",
       "zone4_humidity                  float64\n",
       "zone5_temperature               float64\n",
       "zone5_humidity                  float64\n",
       "zone6_temperature               float64\n",
       "zone6_humidity                  float64\n",
       "zone7_temperature               float64\n",
       "zone7_humidity                  float64\n",
       "zone8_temperature               float64\n",
       "zone8_humidity                  float64\n",
       "zone9_temperature               float64\n",
       "zone9_humidity                  float64\n",
       "outdoor_temperature             float64\n",
       "atmospheric_pressure            float64\n",
       "outdoor_humidity                float64\n",
       "wind_speed                      float64\n",
       "visibility_index                float64\n",
       "dew_point                       float64\n",
       "random_variable1                float64\n",
       "random_variable2                float64\n",
       "dtype: object"
      ]
     },
     "execution_count": 48,
     "metadata": {},
     "output_type": "execute_result"
    }
   ],
   "source": [
    "cleaned_data_frame2.dtypes"
   ]
  },
  {
   "cell_type": "code",
   "execution_count": null,
   "id": "2c676764",
   "metadata": {},
   "outputs": [],
   "source": []
  }
 ],
 "metadata": {
  "kernelspec": {
   "display_name": "base",
   "language": "python",
   "name": "python3"
  },
  "language_info": {
   "codemirror_mode": {
    "name": "ipython",
    "version": 3
   },
   "file_extension": ".py",
   "mimetype": "text/x-python",
   "name": "python",
   "nbconvert_exporter": "python",
   "pygments_lexer": "ipython3",
   "version": "3.12.7"
  }
 },
 "nbformat": 4,
 "nbformat_minor": 5
}
